{
  "cells": [
    {
      "cell_type": "markdown",
      "metadata": {
        "id": "view-in-github",
        "colab_type": "text"
      },
      "source": [
        "<a href=\"https://colab.research.google.com/github/midnightBlueNebula/book-recommendation/blob/main/fcc_book_recommendation_knn_ipynb_adl%C4%B1_not_defterinin_kopyas%C4%B1.ipynb\" target=\"_parent\"><img src=\"https://colab.research.google.com/assets/colab-badge.svg\" alt=\"Open In Colab\"/></a>"
      ]
    },
    {
      "cell_type": "markdown",
      "metadata": {
        "id": "uGd4NYQX1Rf_"
      },
      "source": [
        "*Note: You are currently reading this using Google Colaboratory which is a cloud-hosted version of Jupyter Notebook. This is a document containing both text cells for documentation and runnable code cells. If you are unfamiliar with Jupyter Notebook, watch this 3-minute introduction before starting this challenge: https://www.youtube.com/watch?v=inN8seMm7UI*\n",
        "\n",
        "---\n",
        "\n",
        "In this challenge, you will create a book recommendation algorithm using **K-Nearest Neighbors**.\n",
        "\n",
        "You will use the [Book-Crossings dataset](http://www2.informatik.uni-freiburg.de/~cziegler/BX/). This dataset contains 1.1 million ratings (scale of 1-10) of 270,000 books by 90,000 users. \n",
        "\n",
        "After importing and cleaning the data, use `NearestNeighbors` from `sklearn.neighbors` to develop a model that shows books that are similar to a given book. The Nearest Neighbors algorithm measures distance to determine the “closeness” of instances.\n",
        "\n",
        "Create a function named `get_recommends` that takes a book title (from the dataset) as an argument and returns a list of 5 similar books with their distances from the book argument.\n",
        "\n",
        "This code:\n",
        "\n",
        "`get_recommends(\"The Queen of the Damned (Vampire Chronicles (Paperback))\")`\n",
        "\n",
        "should return:\n",
        "\n",
        "```\n",
        "[\n",
        "  'The Queen of the Damned (Vampire Chronicles (Paperback))',\n",
        "  [\n",
        "    ['Catch 22', 0.793983519077301], \n",
        "    ['The Witching Hour (Lives of the Mayfair Witches)', 0.7448656558990479], \n",
        "    ['Interview with the Vampire', 0.7345068454742432],\n",
        "    ['The Tale of the Body Thief (Vampire Chronicles (Paperback))', 0.5376338362693787],\n",
        "    ['The Vampire Lestat (Vampire Chronicles, Book II)', 0.5178412199020386]\n",
        "  ]\n",
        "]\n",
        "```\n",
        "\n",
        "Notice that the data returned from `get_recommends()` is a list. The first element in the list is the book title passed in to the function. The second element in the list is a list of five more lists. Each of the five lists contains a recommended book and the distance from the recommended book to the book passed in to the function.\n",
        "\n",
        "If you graph the dataset (optional), you will notice that most books are not rated frequently. To ensure statistical significance, remove from the dataset users with less than 200 ratings and books with less than 100 ratings.\n",
        "\n",
        "The first three cells import libraries you may need and the data to use. The final cell is for testing. Write all your code in between those cells."
      ]
    },
    {
      "cell_type": "code",
      "execution_count": 1,
      "metadata": {
        "id": "Y1onB6kUvo4Z"
      },
      "outputs": [],
      "source": [
        "# import libraries (you may add additional imports but you may not have to)\n",
        "import numpy as np\n",
        "import pandas as pd\n",
        "from scipy.sparse import csr_matrix\n",
        "from sklearn.neighbors import NearestNeighbors\n",
        "import matplotlib.pyplot as plt"
      ]
    },
    {
      "cell_type": "code",
      "execution_count": 2,
      "metadata": {
        "id": "iAQGqqO_vo4d",
        "colab": {
          "base_uri": "https://localhost:8080/"
        },
        "outputId": "2f1aabbb-28ba-4371-a028-734ebc38f501"
      },
      "outputs": [
        {
          "output_type": "stream",
          "name": "stdout",
          "text": [
            "--2022-06-20 08:16:12--  https://cdn.freecodecamp.org/project-data/books/book-crossings.zip\n",
            "Resolving cdn.freecodecamp.org (cdn.freecodecamp.org)... 104.26.3.33, 104.26.2.33, 172.67.70.149, ...\n",
            "Connecting to cdn.freecodecamp.org (cdn.freecodecamp.org)|104.26.3.33|:443... connected.\n",
            "HTTP request sent, awaiting response... 200 OK\n",
            "Length: 26085508 (25M) [application/zip]\n",
            "Saving to: ‘book-crossings.zip’\n",
            "\n",
            "book-crossings.zip  100%[===================>]  24.88M   109MB/s    in 0.2s    \n",
            "\n",
            "2022-06-20 08:16:13 (109 MB/s) - ‘book-crossings.zip’ saved [26085508/26085508]\n",
            "\n",
            "Archive:  book-crossings.zip\n",
            "  inflating: BX-Book-Ratings.csv     \n",
            "  inflating: BX-Books.csv            \n",
            "  inflating: BX-Users.csv            \n"
          ]
        }
      ],
      "source": [
        "# get data files\n",
        "!wget https://cdn.freecodecamp.org/project-data/books/book-crossings.zip\n",
        "\n",
        "!unzip book-crossings.zip\n",
        "\n",
        "books_filename = 'BX-Books.csv'\n",
        "ratings_filename = 'BX-Book-Ratings.csv'"
      ]
    },
    {
      "cell_type": "code",
      "execution_count": 3,
      "metadata": {
        "id": "NClILWOiEd6Q"
      },
      "outputs": [],
      "source": [
        "# import csv data into dataframes\n",
        "df_books = pd.read_csv(\n",
        "    books_filename,\n",
        "    encoding = \"ISO-8859-1\",\n",
        "    sep=\";\",\n",
        "    header=0,\n",
        "    names=['isbn', 'title', 'author'],\n",
        "    usecols=['isbn', 'title', 'author'],\n",
        "    dtype={'isbn': 'str', 'title': 'str', 'author': 'str'})\n",
        "\n",
        "df_ratings = pd.read_csv(\n",
        "    ratings_filename,\n",
        "    encoding = \"ISO-8859-1\",\n",
        "    sep=\";\",\n",
        "    header=0,\n",
        "    names=['user', 'isbn', 'rating'],\n",
        "    usecols=['user', 'isbn', 'rating'],\n",
        "    dtype={'user': 'int32', 'isbn': 'str', 'rating': 'float32'})"
      ]
    },
    {
      "cell_type": "code",
      "execution_count": 19,
      "metadata": {
        "id": "xAcXjkCFCh0A",
        "colab": {
          "base_uri": "https://localhost:8080/"
        },
        "outputId": "5478cfa0-2c35-46ad-b2f6-c5d3804eb38d"
      },
      "outputs": [
        {
          "output_type": "stream",
          "name": "stdout",
          "text": [
            "user                                                254     2276    2766    \\\n",
            "title                                                                        \n",
            "1984                                                     9       0       0   \n",
            "1st to Die: A Novel                                      0       0       0   \n",
            "2nd Chance                                               0      10       0   \n",
            "4 Blondes                                                0       0       0   \n",
            "A Beautiful Mind: The Life of Mathematical Geni...       0       0       0   \n",
            "...                                                    ...     ...     ...   \n",
            "Without Remorse                                          0       0       0   \n",
            "Year of Wonders                                          0       0       0   \n",
            "You Belong To Me                                         0       0       0   \n",
            "Zen and the Art of Motorcycle Maintenance: An I...       0       0       0   \n",
            "\\O\\\" Is for Outlaw\"                                      0       0       0   \n",
            "\n",
            "user                                                2977    3363    4017    \\\n",
            "title                                                                        \n",
            "1984                                                     0       0       0   \n",
            "1st to Die: A Novel                                      0       0       0   \n",
            "2nd Chance                                               0       0       0   \n",
            "4 Blondes                                                0       0       0   \n",
            "A Beautiful Mind: The Life of Mathematical Geni...       0       0       0   \n",
            "...                                                    ...     ...     ...   \n",
            "Without Remorse                                          0       0       0   \n",
            "Year of Wonders                                          7       0       0   \n",
            "You Belong To Me                                         0       0       0   \n",
            "Zen and the Art of Motorcycle Maintenance: An I...       0       0       0   \n",
            "\\O\\\" Is for Outlaw\"                                      0       0       0   \n",
            "\n",
            "user                                                4385    6242    6251    \\\n",
            "title                                                                        \n",
            "1984                                                     0       0       0   \n",
            "1st to Die: A Novel                                      0       0       0   \n",
            "2nd Chance                                               0       0       0   \n",
            "4 Blondes                                                0       0       0   \n",
            "A Beautiful Mind: The Life of Mathematical Geni...       0       0       0   \n",
            "...                                                    ...     ...     ...   \n",
            "Without Remorse                                          0       0       0   \n",
            "Year of Wonders                                          0       7       0   \n",
            "You Belong To Me                                         0       0       0   \n",
            "Zen and the Art of Motorcycle Maintenance: An I...       0       0       0   \n",
            "\\O\\\" Is for Outlaw\"                                      0       0       0   \n",
            "\n",
            "user                                                6323    ...  274004  \\\n",
            "title                                                       ...           \n",
            "1984                                                     0  ...       0   \n",
            "1st to Die: A Novel                                      0  ...       0   \n",
            "2nd Chance                                               0  ...       0   \n",
            "4 Blondes                                                0  ...       0   \n",
            "A Beautiful Mind: The Life of Mathematical Geni...       0  ...       0   \n",
            "...                                                    ...  ...     ...   \n",
            "Without Remorse                                          0  ...       0   \n",
            "Year of Wonders                                          0  ...       0   \n",
            "You Belong To Me                                         0  ...       0   \n",
            "Zen and the Art of Motorcycle Maintenance: An I...       0  ...       0   \n",
            "\\O\\\" Is for Outlaw\"                                      0  ...       0   \n",
            "\n",
            "user                                                274061  274301  274308  \\\n",
            "title                                                                        \n",
            "1984                                                     0       0       0   \n",
            "1st to Die: A Novel                                      0       0       0   \n",
            "2nd Chance                                               0       0       0   \n",
            "4 Blondes                                                0       0       0   \n",
            "A Beautiful Mind: The Life of Mathematical Geni...       0       0       0   \n",
            "...                                                    ...     ...     ...   \n",
            "Without Remorse                                          0       0       0   \n",
            "Year of Wonders                                          0       0       0   \n",
            "You Belong To Me                                         0       0       0   \n",
            "Zen and the Art of Motorcycle Maintenance: An I...       0       0       0   \n",
            "\\O\\\" Is for Outlaw\"                                      0       8       0   \n",
            "\n",
            "user                                                274808  275970  277427  \\\n",
            "title                                                                        \n",
            "1984                                                     0       0       0   \n",
            "1st to Die: A Novel                                      0       0       0   \n",
            "2nd Chance                                               0       0       0   \n",
            "4 Blondes                                                0       0       0   \n",
            "A Beautiful Mind: The Life of Mathematical Geni...       0       0       0   \n",
            "...                                                    ...     ...     ...   \n",
            "Without Remorse                                          0       0       0   \n",
            "Year of Wonders                                          0       0       0   \n",
            "You Belong To Me                                         0       0       0   \n",
            "Zen and the Art of Motorcycle Maintenance: An I...       0       0       0   \n",
            "\\O\\\" Is for Outlaw\"                                      0       0       0   \n",
            "\n",
            "user                                                277478  277639  278418  \n",
            "title                                                                       \n",
            "1984                                                     0       0       0  \n",
            "1st to Die: A Novel                                      0       0       0  \n",
            "2nd Chance                                               0       0       0  \n",
            "4 Blondes                                                0       0       0  \n",
            "A Beautiful Mind: The Life of Mathematical Geni...       0       0       0  \n",
            "...                                                    ...     ...     ...  \n",
            "Without Remorse                                          0       0       0  \n",
            "Year of Wonders                                          0       0       0  \n",
            "You Belong To Me                                         0       0       0  \n",
            "Zen and the Art of Motorcycle Maintenance: An I...       0       0       0  \n",
            "\\O\\\" Is for Outlaw\"                                      0       0       0  \n",
            "\n",
            "[673 rows x 888 columns]\n",
            "['1984', '1st to Die: A Novel', '2nd Chance', '4 Blondes', 'A Beautiful Mind: The Life of Mathematical Genius and Nobel Laureate John Nash', 'A Bend in the Road', 'A Case of Need', 'A Child Called \\\\It\\\\\": One Child\\'s Courage to Survive\"', 'A Civil Action', 'A Confederacy of Dunces (Evergreen Book)', 'A Fine Balance', 'A Girl Named Zippy: Growing Up Small in Mooreland Indiana (Today Show Book Club #3)', 'A Heartbreaking Work of Staggering Genius', 'A Is for Alibi (Kinsey Millhone Mysteries (Paperback))', 'A Lesson Before Dying (Vintage Contemporaries (Paperback))', 'A Light in the Window (The Mitford Years)', 'A Man in Full', 'A Map of the World', 'A Painted House', 'A Patchwork Planet', 'A Prayer for Owen Meany', 'A Thin Dark Line (Mysteries &amp; Horror)', \"A Thousand Acres (Ballantine Reader's Circle)\", 'A Time to Kill', \"A Virtuous Woman (Oprah's Book Club (Paperback))\", 'A Walk in the Woods: Rediscovering America on the Appalachian Trail (Official Guides to the Appalachian Trail)', 'A Walk to Remember', 'A Widow for One Year', 'A Wrinkle In Time', 'A Wrinkle in Time', 'A Year in Provence', \"ANGELA'S ASHES\", 'About a Boy', 'About a Boy (Movie Tie-In)', 'Absolute Power', 'Acceptable Risk', \"Ahab's Wife: Or, The Star-Gazer: A Novel\", 'Airframe', 'All Around the Town', 'All I Really Need to Know', 'All That Remains (Kay Scarpetta Mysteries (Paperback))', 'All the Pretty Horses (The Border Trilogy, Vol 1)', 'Along Came a Spider (Alex Cross Novels)', 'American Gods', 'American Psycho (Vintage Contemporaries)', \"Angela's Ashes (MMP) : A Memoir\", \"Angela's Ashes: A Memoir\", 'Angels', 'Angels &amp; Demons', 'Angus, Thongs and Full-Frontal Snogging: Confessions of Georgia Nicolson', 'Animal Dreams', 'Animal Farm', 'Anne Frank: The Diary of a Young Girl', 'Anne of Avonlea (Anne of Green Gables Novels (Paperback))', 'Anne of Green Gables (Anne of Green Gables Novels (Paperback))', 'Artemis Fowl (Artemis Fowl, Book 1)', 'Ashes to Ashes', 'At Home in Mitford (The Mitford Years)', 'Atlantis Found', 'Atlas Shrugged', 'Atonement : A Novel', 'Atonement: A Novel', 'B Is for Burglar (Kinsey Millhone Mysteries (Paperback))', 'Back Roads', \"Back When We Were Grownups : A Novel (Ballantine Reader's Circle)\", 'Bag of Bones', 'Balzac and the Little Chinese Seamstress : A Novel', 'Bastard Out of Carolina', 'Beach House', 'Beach Music', 'Bee Season: A Novel', 'Before I Say Good-Bye', 'Bel Canto: A Novel', 'Beloved', 'Beloved (Plume Contemporary Fiction)', \"Big Cherry Holler: A Big Stone Gap Novel (Ballantine Reader's Circle)\", \"Big Stone Gap: A Novel (Ballantine Reader's Circle)\", 'Big Trouble', 'Black Friday', 'Black House', 'Black Notice', 'Black and Blue', 'Bleachers', 'Blessings', 'Blood Work', 'Blow Fly: A Scarpetta Novel', 'Body of Evidence (Kay Scarpetta Mysteries (Paperback))', 'Body of Lies', 'Brave New World', 'Breath, Eyes, Memory', 'Breathing Lessons', 'Bridget Jones : The Edge of Reason', \"Bridget Jones's Diary\", 'Bridget Jones: The Edge of Reason', 'C Is for Corpse (Kinsey Millhone Mysteries (Paperback))', \"CAT'S EYE\", 'Call of the Wild', 'Cane River', 'Carolina Moon', 'Cat &amp; Mouse (Alex Cross Novels)', 'Catch 22', 'Catch Me If You Can: The True Story of a Real Fake', 'Cause of Death', \"Charlotte's Web (Trophy Newbery)\", 'Charming Billy', 'Chicken Soup for the Soul (Chicken Soup for the Soul)', 'Chicken Soup for the Teenage Soul (Chicken Soup for the Soul)', \"Chicken Soup for the Woman's Soul (Chicken Soup for the Soul Series (Paper))\", 'Chocolat', 'Chosen Prey', 'Circle of Friends', 'Clear and Present Danger (Jack Ryan Novels)', 'Coast Road: A Novel', 'Code to Zero', 'Cold Mountain', 'Cold Mountain : A Novel', 'Confessions of a Shopaholic (Summer Display Opportunity)', 'Confessions of an Ugly Stepsister : A Novel', 'Congo', 'Contact', 'Coraline', \"Corelli's Mandolin : A Novel\", 'Couplehood', 'Cradle and All', 'Crazy for You', 'Cruel &amp; Unusual (Kay Scarpetta Mysteries (Paperback))', 'Cry Wolf', 'D Is for Deadbeat (Kinsey Millhone Mysteries (Paperback))', \"Daddy's Little Girl\", 'Daisy Fay and the Miracle Man', 'Dance upon the Air (Three Sisters Island Trilogy)', 'Dances With Wolves', 'Dark Paradise', 'Dark Rivers of the Heart', 'Daughter of Fortune', \"Daughter of Fortune : A Novel (Oprah's Book Club (Hardcover))\", 'Daughter of Fortune: A Novel', 'Dead Sleep', 'Debt of Honor (Jack Ryan Novels)', 'Deception Point', 'Degree of Guilt', 'Deja Dead', 'Desperation', 'Diary of a Mad Bride (Summer Display Opportunity)', 'Digital Fortress : A Thriller', 'Disclosure', 'Divine Secrets of the Ya-Ya Sisterhood : A Novel', 'Divine Secrets of the Ya-Ya Sisterhood: A Novel', 'Dolores Claiborne', \"Don't Stand Too Close to a Naked Man\", \"Don't Sweat the Small Stuff and It's All Small Stuff : Simple Ways to Keep the Little Things from Taking Over Your Life (Don't Sweat the Small Stuff Series)\", 'Dr. Death (Alex Delaware Novels (Paperback))', 'Dragonfly in Amber', 'Dreamcatcher', 'Drowning Ruth', \"Drowning Ruth (Oprah's Book Club)\", \"Dude, Where's My Country?\", 'Dune (Remembering Tomorrow)', 'Dust to Dust', 'Dying for Chocolate (Culinary Mysteries (Paperback))', 'E Is for Evidence: A Kinsey Millhone Mystery (Kinsey Millhone Mysteries (Paperback))', \"East of Eden (Oprah's Book Club)\", 'Easy Prey', 'Eaters of the Dead', 'Eats, Shoots &amp; Leaves: The Zero Tolerance Approach to Punctuation', 'Echoes', 'Eleventh Hour: An FBI Thriller (FBI Thriller (Jove Paperback))', 'Ellen Foster', 'Empire Falls', \"Ender's Game (Ender Wiggins Saga (Paperback))\", 'Engaging The Enemy', 'Envy', 'Evening Class', \"Everything's Eventual : 14 Dark Tales\", 'Executive Orders (Jack Ryan Novels)', 'Eyes of the Dragon', 'F Is for Fugitive (Kinsey Millhone Mysteries (Paperback))', 'FORREST GUMP (Movie Tie in)', 'Face the Fire (Three Sisters Island Trilogy)', 'Fahrenheit 451', 'Faking It', 'Fall On Your Knees (Oprah #45)', 'Falling Angels', 'False Memory', 'Fast Food Nation: The Dark Side of the All-American Meal', 'Fast Women', 'Fatal Voyage', 'Fear Nothing', 'Final Target', 'Five Quarters of the Orange', 'Flesh and Blood', 'Forever... : A Novel of Good and Evil, Love and Hope', \"Fortune's Rocks: A Novel\", \"Foucault's Pendulum\", 'Four Blind Mice', 'Four Blondes', 'Four Past Midnight', 'Four To Score (A Stephanie Plum Novel)', 'Fried Green Tomatoes at the Whistle Stop Cafe', \"From Potter's Field\", 'From a Buick 8 : A Novel', 'From the Corner of His Eye', \"Full House (Janet Evanovich's Full Series)\", \"Full Tilt (Janet Evanovich's Full Series)\", 'G Is for Gumshoe (Kinsey Millhone Mysteries (Paperback))', 'Gap Creek: The Story Of A Marriage', \"Gerald's Game\", 'Girl in Hyacinth Blue', 'Girl with a Pearl Earring', 'Girl, Interrupted', 'Good Omens', 'Good in Bed', 'Guilty as Sin', 'H Is for Homicide (Kinsey Millhone Mysteries (Paperback))', 'Hannibal', 'Hard Eight : A Stephanie Plum Novel (A Stephanie Plum Novel)', 'Harry Potter and the Chamber of Secrets (Book 2)', 'Harry Potter and the Goblet of Fire (Book 4)', 'Harry Potter and the Order of the Phoenix (Book 5)', 'Harry Potter and the Prisoner of Azkaban (Book 3)', \"Harry Potter and the Sorcerer's Stone (Book 1)\", \"Harry Potter and the Sorcerer's Stone (Harry Potter (Paperback))\", 'Heart of the Sea (Irish Trilogy)', 'Hearts In Atlantis', 'Hearts in Atlantis', 'Heaven and Earth (Three Sisters Island Trilogy)', 'Hemlock Bay', 'Here on Earth', 'Hide &amp; Seek', 'Hideaway', 'High Fidelity', 'High Five (A Stephanie Plum Novel)', 'Holes (Yearling Newbery)', \"Hornet's Nest\", 'Hot Six : A Stephanie Plum Novel (A Stephanie Plum Novel)', 'House of Sand and Fog', 'How the Garcia Girls Lost Their Accents (Plume Contemporary Fiction)', 'How to Be Good', 'How to Make an American Quilt', 'I Is for Innocent', 'I Know This Much Is True', \"I Know This Much Is True (Oprah's Book Club)\", 'I Know Why the Caged Bird Sings', \"I'll Be Seeing You\", 'Icebound', 'Icy Sparks', 'In Her Shoes : A Novel', 'Inner Harbor (Quinn Brothers (Paperback))', 'Insomnia', 'Intensity', 'Interpreter of Maladies', 'Interview with the Vampire', 'Into Thin Air : A Personal Account of the Mt. Everest Disaster', 'Into the Wild', 'Invasion', 'Irish Hearts', 'Ishmael: An Adventure of the Mind and Spirit', 'Isle of Dogs', 'It Was on Fire When I Lay Down on It', 'J Is for Judgment', 'Jack &amp; Jill (Alex Cross Novels)', 'Jackdaws', 'Jemima J: A Novel About Ugly Ducklings and Swans', 'Jewel', \"Jewel (Oprah's Book Club)\", 'Jewels of the Sun (Irish Trilogy)', 'Jonathan Livingston Seagull', 'Jurassic Park', 'K Is for Killer (Kinsey Millhone Mysteries (Paperback))', 'Key of Knowledge (Key Trilogy (Paperback))', 'Key of Light (Key Trilogy (Paperback))', 'Key of Valor (Roberts, Nora. Key Trilogy, 3.)', 'Kiss the Girls', 'L Is for Lawless', 'Lake Wobegon days', \"Lamb : The Gospel According to Biff, Christ's Childhood Pal\", 'Lasher: Lives of the Mayfair Witches (Lives of the Mayfair Witches)', 'Last Chance Saloon', 'Last Man Standing', \"Left Behind: A Novel of the Earth's Last Days (Left Behind #1)\", \"Left Behind: A Novel of the Earth's Last Days (Left Behind No. 1)\", 'Let Me Call You Sweetheart', 'Lies and the Lying Liars Who Tell Them: A Fair and Balanced Look at the Right', 'Life of Pi', 'Lightning', 'Like Water for Chocolate : A Novel in Monthly Installments with Recipes, Romances, and Home Remedies', 'Like Water for Chocolate: A Novel in Monthly Installments With Recipes, Romances and Home Remedies', 'Like Water for Chocolate: A Novel in Monthly Installments, With Recipes, Romances, and Home Remedies', 'Little Altars Everywhere: A Novel', 'Long After Midnight', 'Lord of the Flies', 'Love in the Time of Cholera (Penguin Great Books of the 20th Century)', 'Loves Music, Loves to Dance', 'Lucky : A Memoir', 'Lucky Man: A Memoir', 'M Is for Malice', 'Manhattan Hunt Club', 'Me Talk Pretty One Day', 'Memoirs of a Geisha Uk', 'Men Are from Mars, Women Are from Venus: A Practical Guide for Improving Communication and Getting What You Want in Your Relationships', 'Message in a Bottle', 'Middlesex: A Novel', 'Midnight Bayou', 'Midnight in the Garden of Good and Evil', 'Midnight in the Garden of Good and Evil: A Savannah Story', 'Midwives: A Novel', 'Misery', 'Miss Julia Speaks Her Mind : A Novel', 'Monster : A Novel (Alex Delaware Novels (Paperback))', 'Montana Sky', 'Moo', 'Moonlight Becomes You', 'Morality for Beautiful Girls (No.1 Ladies Detective Agency)', 'Mortal Prey', 'Mr. Murder', 'Mrs Dalloway', 'Mystic River', 'N Is for Noose', 'Naked', 'Needful Things', 'Neuromancer (Remembering Tomorrow)', 'Neverwhere', 'Nickel and Dimed: On (Not) Getting By in America', 'Nicolae: The Rise of Antichrist (Left Behind No. 3)', 'Night', 'Night Sins', 'Nightmares &amp; Dreamscapes', 'Nights in Rodanthe', 'Notes from a Small Island', 'Of Mice and Men (Penguin Great Books of the 20th Century)', 'On the Road', 'On the Street Where You Live', 'One Door Away from Heaven', \"One Flew Over the Cuckoo's Nest\", 'One True Thing', 'One for the Money (A Stephanie Plum Novel)', 'One for the Money (Stephanie Plum Novels (Paperback))', 'Open House', \"Open House (Oprah's Book Club (Paperback))\", 'Outlander', 'P Is for Peril', 'P Is for Peril (Kinsey Millhone Mysteries (Hardcover))', 'Patriot Games (Jack Ryan Novels)', 'Pay It Forward', 'Peace Like a River', 'Pigs in Heaven', 'Plainsong (Vintage Contemporaries)', 'Pleading Guilty', 'Plum Island', 'Point of Origin', 'Politically Correct Bedtime Stories: Modern Tales for Our Life and Times', 'Pop Goes the Weasel', 'Portrait of a Killer: Jack the Ripper -- Case Closed', 'Portrait of a Killer: Jack the Ripper-- Case Closed (Berkley True Crime)', 'Possession : A Romance', 'Postmortem', 'Presumed Innocent', \"Pretend You Don't See Her\", 'Prey', 'Prey: A Novel', 'Prodigal Summer', 'Prodigal Summer: A Novel', 'Purity in Death', 'Q Is for Quarry', 'Rainbow Six', 'Red Dragon', 'Red Storm Rising', 'Remember Me', 'Riptide', 'Rising Sun', 'Rising Tides', \"River's End\", 'River, Cross My Heart', 'Rose Madder', 'Roses Are Red (Alex Cross Novels)', 'Running with Scissors: A Memoir', 'SHIPPING NEWS', 'STONES FROM THE RIVER', 'Sanctuary', 'Saving Faith', 'Scarlet Feather', 'Scarlett : The Sequel to Margaret Mitchell\\'s \\\\Gone With the Wind\\\\\"\"', \"Schindler's List\", 'Sea Glass: A Novel', 'Sea Swept (Quinn Brothers (Paperback))', 'Seabiscuit', 'Seabiscuit: An American Legend', 'Secret History', 'See How They Run', 'Seinlanguage', 'Seize the Night', 'September', 'Seven Habits Of Highly Effective People', 'Seven Up (A Stephanie Plum Novel)', 'Shadowfires', \"She's Come Undone (Oprah's Book Club (Paperback))\", \"She's Come Undone (Oprah's Book Club)\", 'Shell Seekers', 'Shopaholic Takes Manhattan (Summer Display Opportunity)', 'Shopaholic Ties the Knot', 'Shopgirl', 'Shopgirl : A Novella', 'Sick Puppy', 'Siddhartha', 'Silence of the Lambs', 'Silent Night : A Christmas Suspense Story', 'Simple Abundance:  A Daybook of Comfort and Joy', 'Sisterhood of the Traveling Pants', 'Skipping Christmas', \"Slaughterhouse Five or the Children's Crusade: A Duty Dance With Death\", 'Sleepers', 'Slow Waltz in Cedar Bend', \"Smilla's Sense of Snow\", 'Snow Falling on Cedars', \"Song of Solomon (Oprah's Book Club (Paperback))\", \"Songs in Ordinary Time (Oprah's Book Club (Paperback))\", \"Sophie's World: A Novel About the History of Philosophy\", 'Soul Harvest: The World Takes Sides (Left Behind No. 4)', 'Southern Cross', 'Space', 'Sphere', 'Standing in the Rainbow', 'Still Waters', 'Stranger in a Strange Land (Remembering Tomorrow)', 'Stupid White Men ...and Other Sorry Excuses for the State of the Nation!', 'Summer Pleasures', 'Summer Sisters', 'Survival of the Fittest: An Alex Delaware Novel', \"Suzanne's Diary for Nicholas\", 'Table For Two', 'Tara Road', 'Tears of the Giraffe (No.1 Ladies Detective Agency)', 'Tears of the Moon (Irish Trilogy)', 'Tell Me Lies (Tell Me Lies)', 'Tell No One', 'That Camden Summer', 'The Accidental Tourist', 'The Alchemist: A Fable About Following Your Dream', 'The Alienist', 'The Amazing Adventures of Kavalier &amp; Clay', 'The Andromeda Strain', 'The Angel of Darkness', 'The Bachelor (Warner Books Contemporary Romance)', 'The Bad Beginning (A Series of Unfortunate Events, Book 1)', 'The Bad Place', 'The Beach House', 'The Bean Trees', 'The Bear and the Dragon (Jack Ryan Novels)', 'The Big Bad Wolf: A Novel', 'The Blind Assassin', 'The Blue Nowhere : A Novel', 'The Bluest Eye', 'The Body Farm', 'The Bone Collector (Lincoln Rhyme Novels (Paperback))', \"The Bonesetter's Daughter\", 'The Bonfire of the Vanities', \"The Book of Ruth (Oprah's Book Club (Paperback))\", 'The Bourne Identity', 'The Boy Next Door', 'The Brethren', 'The Bridges of Madison County', 'The Burden of Proof', 'The Cardinal of the Kremlin (Jack Ryan Novels)', 'The Catcher in the Rye', 'The Celestine Prophecy (Celestine Prophecy)', 'The Chamber', 'The Cider House Rules', \"The Clan of the Cave Bear (Earth's Children (Paperback))\", 'The Client', 'The Color Purple', 'The Color of Magic', \"The Color of Water: A Black Man's Tribute to His White Mother\", 'The Copper Beech', 'The Corrections', 'The Corrections: A Novel', 'The Curious Incident of the Dog in the Night-Time (Today Show Book Club #13)', 'The Da Vinci Code', 'The Dark Half', 'The Deep End of the Ocean', \"The Deep End of the Ocean (Oprah's Book Club (Hardcover))\", 'The Devil Wears Prada : A Novel', \"The Dive From Clausen's Pier (Alex Awards)\", \"The Dive From Clausen's Pier : A Novel (Vintage Contemporaries (Paperback))\", 'The Divine Secrets of the Ya-Ya Sisterhood: A Novel', 'The Dogs of Babel (Today Show Book Club #12)', 'The Door to December', \"The Dress Lodger (Ballantine Reader's Circle)\", 'The English Patient', 'The Eye of the World (The Wheel of Time, Book 1)', 'The Eyes of Darkness', 'The Eyre Affair: A Novel', 'The Face of Deception', 'The Fellowship of the Ring (The Lord of the Rings, Part 1)', 'The Firm', 'The Five People You Meet in Heaven', 'The Forgotten (Peter Decker &amp; Rina Lazarus Novels (Paperback))', 'The Four Agreements: A Practical Guide to Personal Freedom', \"The General's Daughter\", 'The Genesis Code', 'The Girl Who Loved Tom Gordon', 'The Girl Who Loved Tom Gordon : A Novel', \"The Girls' Guide to Hunting and Fishing\", 'The Giver (21st Century Reference)', 'The Glass Lake', 'The God of Small Things', 'The Golden Compass (His Dark Materials, Book 1)', 'The Great Gatsby', 'The Green Mile', 'The Gunslinger (The Dark Tower, Book 1)', \"The Handmaid's Tale\", \"The Handmaid's Tale : A Novel\", \"The Hitchhiker's Guide to the Galaxy\", 'The Hobbit : The Enchanting Prelude to The Lord of the Rings', 'The Honk and Holler Opening Soon', 'The Horse Whisperer', 'The Hot Zone', 'The Hours : A Novel', 'The Hours: A Novel', 'The House of Thunder', 'The House of the Spirits', 'The House on Mango Street (Vintage Contemporaries)', 'The Hundred Secret Senses', 'The Hunt for Red October', \"The Idiot Girls' Action Adventure Club\", 'The Jester', 'The Joy Luck Club', 'The Key to Midnight', 'The Killer Angels', 'The Killing Game: Only One Can Win...and the Loser Dies', 'The King of Torts', \"The Kitchen God's Wife\", 'The Last Juror', 'The Last Precinct', 'The Last Time They Met : A Novel', \"The Liar's Club: A Memoir\", 'The Loop', \"The Lost Boy: A Foster Child's Search for the Love of a Family\", 'The Lost World', 'The Lottery Winner : Alvirah And Willy Stories', 'The Lovely Bones: A Novel', 'The Mists of Avalon', 'The Mulberry Tree', 'The Mummy or Ramses the Damned', 'The Murder Book', 'The Nanny Diaries: A Novel', 'The Next Accident', \"The No. 1 Ladies' Detective Agency\", \"The No. 1 Ladies' Detective Agency (Today Show Book Club #8)\", 'The Notebook', 'The Other Boleyn Girl', 'The Partner', 'The Pelican Brief', 'The Perfect Husband', 'The Perfect Storm : A True Story of Men Against the Sea', 'The Perks of Being a Wallflower', 'The Phantom Tollbooth', 'The Pillars of the Earth', \"The Pilot's Wife\", \"The Pilot's Wife : A Novel\", \"The Pilot's Wife : A Novel Tag: Author of the Weight of Water (Oprah's Book Club (Hardcover))\", \"The Plains of Passage (Earth's Children (Paperback))\", 'The Poisonwood Bible', 'The Poisonwood Bible: A Novel', 'The Prince of Tides', \"The Princess Bride: S Morgenstern's Classic Tale of True Love and High Adventure\", 'The Princess Diaries', 'The Professor and the Madman: A Tale of Murder, Insanity, and the Making of The Oxford English Dictionary', 'The Queen of the Damned (Vampire Chronicles (Paperback))', 'The Rainmaker', 'The Rapture of Canaan', 'The Reader', 'The Red Tent (Bestselling Backlist)', 'The Reef', 'The Remains of the Day (Vintage International)', 'The Reptile Room (A Series of Unfortunate Events, Book 2)', 'The Rescue', 'The Return Journey', 'The Return of the King (The Lord of the Rings, Part 3)', 'The Runaway Jury', \"The Samurai's Garden : A Novel\", 'The Saving Graces: A Novel', 'The Search', 'The Secret Life of Bees', \"The Shelters of Stone (Earth's Children Series, No 5)\", 'The Shipping News : A Novel', 'The Sigma Protocol', 'The Simple Truth', 'The Smoke Jumper', 'The Sparrow', 'The Stand: Complete and Uncut', 'The Stone Diaries', 'The Stone Monkey (Lincoln Rhyme Novels (Paperback))', 'The Street Lawyer', 'The Sum of All Fears', 'The Sum of All Fears (Jack Ryan Novels)', 'The Summerhouse', 'The Summons', 'The Surgeon', \"The Sweet Potato Queens' Book of Love\", 'The Tale of the Body Thief (Vampire Chronicles (Paperback))', 'The Talisman', 'The Tao of Pooh', 'The Temple of My Familiar', 'The Testament', 'The Third Twin', 'The Thorn Birds', 'The Tommyknockers', 'The Two Towers (The Lord of the Rings, Part 2)', 'The Ugly Duckling', 'The Valley of Horses', 'The Vampire Lestat (Vampire Chronicles, Book II)', 'The Villa', 'The Virgin Blue', 'The Virgin Suicides', 'The Weight of Water', 'The Weight of Water : A Novel Tag: Author of Resistance and Strange Fits of Passion', 'The Winner', 'The Witching Hour (Lives of the Mayfair Witches)', 'The Woman Next Door', 'The World According to Garp', 'Their Eyes Were Watching God: A Novel', 'Thousand Acres', 'Three Fates', 'Three Junes', 'Three To Get Deadly : A Stephanie Plum Novel (A Stephanie Plum Novel)', 'Timeline', 'Tis : A Memoir', 'Tis: A Memoir', 'To Kill a Mockingbird', 'To the Nines: A Stephanie Plum Novel', \"Tom Clancy's Op-Center (Tom Clancy's Op Center (Paperback))\", \"Tom Clancy's Op-Center: Mirror Image (Tom Clancy's Op Center (Paperback))\", 'Total Control', 'Tribulation Force: The Continuing Drama of Those Left Behind (Left Behind No. 2)', 'Truly, Madly Manhattan', \"Tuesdays with Morrie: An Old Man, a Young Man, and Life's Greatest Lesson\", 'Turtle Moon', 'Two for the Dough', 'Under the Tuscan Sun', 'Unnatural Exposure', 'Unspeakable', 'Valhalla Rising (Dirk Pitt Adventures (Paperback))', \"Vinegar Hill (Oprah's Book Club (Paperback))\", 'Violets Are Blue', 'Waiting (Vintage International)', 'Watchers', 'Watership Down', 'We Were the Mulvaneys', \"We'll Meet Again\", 'Welcome to Temptation', 'Welcome to the World, Baby Girl!', 'What Looks Like Crazy On An Ordinary Day', \"What to Expect When You're Expecting (Revised Edition)\", 'When the Wind Blows', \"Where the Heart Is (Oprah's Book Club (Paperback))\", 'Where the Red Fern Grows', 'While I Was Gone', 'While My Pretty One Sleeps', 'Whirlwind (Tyler, Book 1)', 'White Oleander : A Novel', \"White Oleander : A Novel (Oprah's Book Club)\", 'White Teeth: A Novel', 'Who Moved My Cheese? An Amazing Way to Deal with Change in Your Work and in Your Life', 'Wicked: The Life and Times of the Wicked Witch of the West', 'Wifey', 'Wild Animus', 'Winter Moon', 'Wish You Well', 'Without Remorse', 'Year of Wonders', 'You Belong To Me', 'Zen and the Art of Motorcycle Maintenance: An Inquiry into Values', '\\\\O\\\\\" Is for Outlaw\"']\n"
          ]
        }
      ],
      "source": [
        "# add your code here - consider creating a new cell for each section of code\n",
        "\n",
        "user_counts = df_ratings[\"user\"].value_counts()\n",
        "isbn_counts = df_ratings[\"isbn\"].value_counts()\n",
        "\n",
        "df_filter = df_ratings\n",
        "\n",
        "df_filter = df_filter[~df_filter['user'].isin(user_counts[user_counts < 200].index)]\n",
        "df_filter = df_filter[~df_filter['isbn'].isin(isbn_counts[isbn_counts < 100].index)]\n",
        "\n",
        "df = pd.merge(left=df_books, right=df_filter, on=\"isbn\")\n",
        "df.drop_duplicates(subset=[\"title\", \"user\"], inplace=True, keep=\"first\")\n",
        "\n",
        "pivot_table = pd.pivot_table(df, index=\"title\", columns=\"user\", values=\"rating\", fill_value=0)\n",
        "title_list = list(pivot_table.index.values)\n",
        "\n",
        "print(pivot_table)\n",
        "print(title_list)"
      ]
    },
    {
      "cell_type": "code",
      "source": [
        "neighbors = NearestNeighbors(n_neighbors=5, metric=\"cosine\", algorithm=\"brute\")\n",
        "neighbors.fit(pivot_table.values)"
      ],
      "metadata": {
        "colab": {
          "base_uri": "https://localhost:8080/"
        },
        "id": "U_Yu6gXwl9OI",
        "outputId": "002c1e8b-1031-4b6a-ea8a-3a96a1b87a92"
      },
      "execution_count": 20,
      "outputs": [
        {
          "output_type": "execute_result",
          "data": {
            "text/plain": [
              "NearestNeighbors(algorithm='brute', metric='cosine')"
            ]
          },
          "metadata": {},
          "execution_count": 20
        }
      ]
    },
    {
      "cell_type": "code",
      "execution_count": 21,
      "metadata": {
        "id": "f5ZUd-L1SQz7",
        "colab": {
          "base_uri": "https://localhost:8080/"
        },
        "outputId": "93fd4052-5d46-4af6-f51e-e966b65d530f"
      },
      "outputs": [
        {
          "output_type": "stream",
          "name": "stdout",
          "text": [
            "Where the Heart Is (Oprah's Book Club (Paperback))\n",
            "The Lovely Bones: A Novel\n",
            "I Know This Much Is True\n",
            "The Surgeon\n",
            "The Weight of Water\n"
          ]
        },
        {
          "output_type": "execute_result",
          "data": {
            "text/plain": [
              "[\"Where the Heart Is (Oprah's Book Club (Paperback))\",\n",
              " [['The Weight of Water', 0.7708583572697412],\n",
              "  ['The Surgeon', 0.7699410973804288],\n",
              "  ['I Know This Much Is True', 0.7677075092617776],\n",
              "  ['The Lovely Bones: A Novel', 0.7234864549790632],\n",
              "  [\"Where the Heart Is (Oprah's Book Club (Paperback))\",\n",
              "   7.771561172376096e-16]]]"
            ]
          },
          "metadata": {},
          "execution_count": 21
        }
      ],
      "source": [
        "# function to return recommended books - this will be tested\n",
        "\n",
        "def get_index(title):\n",
        "  return pivot_table.values[title_list.index(title)]\n",
        "\n",
        "\n",
        "def get_recommends(book = \"\"):\n",
        "  rating =  df[df[\"title\"] == book].values[0][4]\n",
        "\n",
        "  index = get_index(\"Where the Heart Is (Oprah's Book Club (Paperback))\")\n",
        "  distances, indices = neighbors.kneighbors([index])\n",
        "\n",
        "  result = []\n",
        "  recommended_books = [book, result]\n",
        "\n",
        "  for distance, index in zip(distances[0], indices[0]):\n",
        "    title = pivot.index.values[index]\n",
        "    print(title)\n",
        "    row = [title, distance]\n",
        "    result.insert(0, row)\n",
        "\n",
        "  return recommended_books\n",
        "\n",
        "get_recommends(\"Where the Heart Is (Oprah's Book Club (Paperback))\")"
      ]
    },
    {
      "cell_type": "markdown",
      "metadata": {
        "id": "eat9A2TKawHU"
      },
      "source": [
        "Use the cell below to test your function. The `test_book_recommendation()` function will inform you if you passed the challenge or need to keep trying."
      ]
    },
    {
      "cell_type": "code",
      "execution_count": 22,
      "metadata": {
        "id": "jd2SLCh8oxMh",
        "colab": {
          "base_uri": "https://localhost:8080/"
        },
        "outputId": "d81d43c9-8b8a-48f0-a2fd-993eee1ccf6e"
      },
      "outputs": [
        {
          "output_type": "stream",
          "name": "stdout",
          "text": [
            "Where the Heart Is (Oprah's Book Club (Paperback))\n",
            "The Lovely Bones: A Novel\n",
            "I Know This Much Is True\n",
            "The Surgeon\n",
            "The Weight of Water\n",
            "[\"Where the Heart Is (Oprah's Book Club (Paperback))\", [['The Weight of Water', 0.7708583572697412], ['The Surgeon', 0.7699410973804288], ['I Know This Much Is True', 0.7677075092617776], ['The Lovely Bones: A Novel', 0.7234864549790632], [\"Where the Heart Is (Oprah's Book Club (Paperback))\", 7.771561172376096e-16]]]\n",
            "Where the Heart Is (Oprah's Book Club (Paperback))\n",
            "The Lovely Bones: A Novel\n",
            "I Know This Much Is True\n",
            "The Surgeon\n",
            "The Weight of Water\n",
            "You passed the challenge! 🎉🎉🎉🎉🎉\n"
          ]
        }
      ],
      "source": [
        "books = get_recommends(\"Where the Heart Is (Oprah's Book Club (Paperback))\")\n",
        "print(books)\n",
        "\n",
        "def test_book_recommendation():\n",
        "  test_pass = True\n",
        "  recommends = get_recommends(\"Where the Heart Is (Oprah's Book Club (Paperback))\")\n",
        "  if recommends[0] != \"Where the Heart Is (Oprah's Book Club (Paperback))\":\n",
        "    test_pass = False\n",
        "  recommended_books = [\"I'll Be Seeing You\", 'The Weight of Water', 'The Surgeon', 'I Know This Much Is True']\n",
        "  recommended_books_dist = [0.8, 0.77, 0.77, 0.77]\n",
        "  for i in range(2): \n",
        "    if recommends[1][i][0] not in recommended_books:\n",
        "      test_pass = False\n",
        "    if abs(recommends[1][i][1] - recommended_books_dist[i]) >= 0.05:\n",
        "      test_pass = False\n",
        "  if test_pass:\n",
        "    print(\"You passed the challenge! 🎉🎉🎉🎉🎉\")\n",
        "  else:\n",
        "    print(\"You haven't passed yet. Keep trying!\")\n",
        "\n",
        "test_book_recommendation()"
      ]
    }
  ],
  "metadata": {
    "colab": {
      "collapsed_sections": [],
      "name": "fcc_book_recommendation_knn.ipynb adlı not defterinin kopyası",
      "provenance": [],
      "include_colab_link": true
    },
    "kernelspec": {
      "display_name": "Python 3",
      "language": "python",
      "name": "python3"
    },
    "language_info": {
      "codemirror_mode": {
        "name": "ipython",
        "version": 3
      },
      "file_extension": ".py",
      "mimetype": "text/x-python",
      "name": "python",
      "nbconvert_exporter": "python",
      "pygments_lexer": "ipython3",
      "version": "3.6.5"
    }
  },
  "nbformat": 4,
  "nbformat_minor": 0
}